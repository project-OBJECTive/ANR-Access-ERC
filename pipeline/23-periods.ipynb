{
 "cells": [
  {
   "cell_type": "markdown",
   "id": "e952a859",
   "metadata": {},
   "source": [
    "Extract period of production information from lot descriptions."
   ]
  },
  {
   "cell_type": "markdown",
   "id": "0148cbc0",
   "metadata": {},
   "source": [
    "### Initialization"
   ]
  },
  {
   "cell_type": "code",
   "execution_count": 1,
   "id": "306ad587",
   "metadata": {},
   "outputs": [],
   "source": [
    "import sys, os, datetime\n",
    "sys.path.append(os.path.abspath('../src'))\n",
    "import pandas as pd, spacy\n",
    "import lib\n",
    "import yaml\n",
    "import warnings\n",
    "warnings.filterwarnings(\"ignore\")\n",
    "\n",
    "# Paremeters from config file\n",
    "with open(\"./00-config.yaml\", \"r\") as f:\n",
    "    config = yaml.safe_load(f)\n",
    "catalog = config['catalog']['folder_name']\n",
    "spacy_model = config['catalog']['spacy_model']\n",
    "\n",
    "# Overwrite variables in case of pipeline mode\n",
    "if os.getenv('OBJECTIVE_MODE') == 'pipeline':\n",
    "    catalog = os.getenv('OBJECTIVE_CATALOG')\n",
    "    \n",
    "# Global variables\n",
    "nlp = spacy.load(spacy_model)\n",
    "eta = lib.Eta()\n",
    "folder_path = f\"../catalogs/{catalog}\"\n",
    "input_path = f'{folder_path}/objects.csv'\n",
    "output_path = f'{folder_path}/objects.csv'"
   ]
  },
  {
   "cell_type": "markdown",
   "id": "d176af0e",
   "metadata": {},
   "source": [
    "### Load objects"
   ]
  },
  {
   "cell_type": "code",
   "execution_count": 2,
   "id": "5452062b",
   "metadata": {},
   "outputs": [],
   "source": [
    "objects = pd.read_csv(input_path)\n",
    "objects['period'] = pd.NA"
   ]
  },
  {
   "cell_type": "markdown",
   "id": "50906661",
   "metadata": {},
   "source": [
    "### Manually add periods"
   ]
  },
  {
   "cell_type": "code",
   "execution_count": 3,
   "id": "17ea4790",
   "metadata": {},
   "outputs": [],
   "source": [
    "for i, _ in objects.iterrows():\n",
    "\n",
    "    # Prepare variables\n",
    "    descr = objects.at[i, 'description'].lower() if pd.notna(objects.at[i, 'description']) else \"\"\n",
    "    origin = objects.at[i, 'origin'].lower() if pd.notna(objects.at[i, 'origin']) else \"\"\n",
    "    period = objects.at[i, 'period'].lower() if pd.notna(objects.at[i, 'period']) else \"\"\n",
    "\n",
    "    ##### KINGS #####\n",
    "\n",
    "    if \"henri ii\" in descr and \"henri iii\" not in descr: \n",
    "        origin = lib.add_element(origin, 'France')\n",
    "        period = lib.add_element(period, 'Henri II')\n",
    "    if \"henri iv\" in descr:\n",
    "        origin = lib.add_element(origin, 'France')\n",
    "        period = lib.add_element(period, 'Henri IV')\n",
    "    if \"louis xiii\" in descr: \n",
    "        origin = lib.add_element(origin, 'France')\n",
    "        period = lib.add_element(period, 'Louis XIII')\n",
    "    if \"louis xiv\" in descr: \n",
    "        origin = lib.add_element(origin, 'France')\n",
    "        period = lib.add_element(period, 'Louis XIV')\n",
    "    if \"louis xv\" in descr and \"louis xvi\" not in descr: \n",
    "        origin = lib.add_element(origin, 'France')\n",
    "        period = lib.add_element(period, 'Louis XV')\n",
    "    if \"louis xvi\" in descr and \"louis xvii\" not in descr: \n",
    "        origin = lib.add_element(origin, 'France')\n",
    "        period = lib.add_element(period, 'Louis XVI')\n",
    "    if \"louis xviii\" in descr: \n",
    "        origin = lib.add_element(origin, 'France')\n",
    "        period = lib.add_element(period, 'Louis XVIII')\n",
    "    if \"charles x\" in descr: \n",
    "        origin = lib.add_element(origin, 'France')\n",
    "        period = lib.add_element(period, 'Charles X')\n",
    "    if \"napoleon\" in descr and \"napoleon iii\" not in descr: \n",
    "        origin = lib.add_element(origin, 'France')\n",
    "        origin = lib.add_element(period, 'Empire')\n",
    "    if \"napoleon iii\" in descr: \n",
    "        origin = lib.add_element(origin, 'France')\n",
    "        origin = lib.add_element(period, 'Second Empire')\n",
    "\n",
    "\n",
    "    ##### STYLES #####\n",
    "\n",
    "    if 'rocaille' in descr:\n",
    "        origin = lib.add_element(origin, 'France')\n",
    "    if 'régence' in descr:\n",
    "        origin = lib.add_element(origin, 'France')\n",
    "    if 'empire' in descr:\n",
    "        origin = lib.add_element(origin, 'France')\n",
    "        period = lib.add_element(period, 'Empire')\n",
    "    if 'renaissance' in descr:\n",
    "        origin = lib.add_element(origin, 'Europe')\n",
    "        period = lib.add_element(period, 'Renaissance')\n",
    "    if 'rococo' in descr:\n",
    "        origin = lib.add_element(origin, 'Italy')\n",
    "    if 'moyen age' in descr or 'moyen-age' in descr:\n",
    "        origin = lib.add_element(origin, 'Europe')\n",
    "        period = lib.add_element(period, 'Moyen-Age')\n",
    "\n",
    "    # Set the new values \n",
    "    objects.at[i, 'origin'] = lib.clean_elements_str(origin) \n",
    "    objects.at[i, 'period'] = lib.clean_elements_str(period) \n"
   ]
  },
  {
   "cell_type": "markdown",
   "id": "9f6bed64",
   "metadata": {},
   "source": [
    "### Work on centuries"
   ]
  },
  {
   "cell_type": "code",
   "execution_count": 4,
   "id": "f0cfecff",
   "metadata": {},
   "outputs": [],
   "source": [
    "periods_blacklist_chars = ['°', 'ᵉ', 'e', '⁰', '^']\n",
    "correspondance = {\n",
    "    'xvir': 'xvi',\n",
    "    'xviir': 'xvii',\n",
    "    'xvièm': 'xvi',\n",
    "    'xviièm': 'xvii',\n",
    "    '13': 'xiii',\n",
    "    '14': 'xiv',\n",
    "    '15': 'xv',\n",
    "    '16': 'xvi',\n",
    "    '17': 'xvii',\n",
    "    '18': 'xviii',\n",
    "    '19': 'xix',\n",
    "    'troisièm': 'iii',\n",
    "    'sizièm': 'vi',\n",
    "    'sixièm': 'vi',\n",
    "    'dixièm': 'x',\n",
    "    'onzièm': 'xi',\n",
    "    'douzièm': 'xii',\n",
    "    'trizièm': 'xiii',\n",
    "    'quatorzièm': 'xiv',\n",
    "    'quinzièm': 'xv',\n",
    "    'dix-sptièm': 'xvii',\n",
    "    'dix-huitièm': 'xvii',\n",
    "    'drnir': 'xviii'\n",
    "}\n",
    "all_periods = set()\n",
    "\n",
    "def get_period(period: str) -> str:\n",
    "    text = period.lower()\n",
    "    for bl in periods_blacklist_chars:\n",
    "        text = text.replace(bl, '')\n",
    "    if text in correspondance:\n",
    "        text = correspondance[text]\n",
    "    return text"
   ]
  },
  {
   "cell_type": "code",
   "execution_count": null,
   "id": "88dbd032",
   "metadata": {},
   "outputs": [],
   "source": [
    "eta.begin(len(objects), 'Getting periods')\n",
    "for i, row in objects.iterrows():\n",
    "    descr = row['description'] if pd.notna(row['description']) else ''\n",
    "    period = objects.at[i, 'period'].lower() if pd.notna(objects.at[i, 'period']) else \"\"\n",
    "\n",
    "    if 'siècle' in descr:\n",
    "        doc = nlp(descr)\n",
    "        periods_raw = [get_period(token.text) for token in doc if token.head.text == 'siècle' and token.pos_ == 'ADJ']\n",
    "        periods = [p for p in periods_raw if p != '']\n",
    "        for p in periods:\n",
    "            period = lib.add_element(period, p) \n",
    "        \n",
    "    objects.at[i, 'period'] = lib.clean_elements_str(period) \n",
    "    eta.iter()\n",
    "eta.end()"
   ]
  },
  {
   "cell_type": "markdown",
   "id": "87aa5b92",
   "metadata": {},
   "source": [
    "### Save table"
   ]
  },
  {
   "cell_type": "code",
   "execution_count": null,
   "id": "8ca28b83",
   "metadata": {},
   "outputs": [],
   "source": [
    "objects.to_csv(output_path, index=False)"
   ]
  }
 ],
 "metadata": {
  "kernelspec": {
   "display_name": "Python 3",
   "language": "python",
   "name": "python3"
  },
  "language_info": {
   "codemirror_mode": {
    "name": "ipython",
    "version": 3
   },
   "file_extension": ".py",
   "mimetype": "text/x-python",
   "name": "python",
   "nbconvert_exporter": "python",
   "pygments_lexer": "ipython3",
   "version": "3.10.16"
  }
 },
 "nbformat": 4,
 "nbformat_minor": 5
}
