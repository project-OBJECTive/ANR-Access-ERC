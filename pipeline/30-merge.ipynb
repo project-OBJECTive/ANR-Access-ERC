{
 "cells": [
  {
   "cell_type": "markdown",
   "id": "f1f3b577",
   "metadata": {},
   "source": [
    "Merge all individual object files into one CSV table."
   ]
  },
  {
   "cell_type": "markdown",
   "id": "9deb9605",
   "metadata": {},
   "source": [
    "### Initialize"
   ]
  },
  {
   "cell_type": "code",
   "execution_count": null,
   "id": "b68944d4",
   "metadata": {},
   "outputs": [],
   "source": [
    "import sys, os\n",
    "sys.path.append(os.path.abspath('../src'))\n",
    "import pandas as pd\n",
    "import lib\n",
    "\n",
    "\n",
    "# Global variables\n",
    "columns = ['catalog', 'index', 'description', 'number', 'object_type', 'material_technique', 'origin', 'author', 'period', 'verify']\n",
    "folder_path = f\"../catalogs/\"\n",
    "eta = lib.Eta()\n",
    "output_path = f\"../data/objects-all.csv\""
   ]
  },
  {
   "cell_type": "markdown",
   "id": "8724b7e5",
   "metadata": {},
   "source": [
    "### Initialize all objects file"
   ]
  },
  {
   "cell_type": "code",
   "execution_count": null,
   "id": "5433f945",
   "metadata": {},
   "outputs": [],
   "source": [
    "if not os.path.exists(output_path):\n",
    "    df = pd.DataFrame(columns=columns)\n",
    "    df.to_csv(output_path, index=False)"
   ]
  },
  {
   "cell_type": "markdown",
   "id": "5cd295e3",
   "metadata": {},
   "source": [
    "### Load all objects"
   ]
  },
  {
   "cell_type": "code",
   "execution_count": null,
   "id": "66663384",
   "metadata": {},
   "outputs": [],
   "source": [
    "all_objects = pd.read_csv(output_path)\n",
    "all_objects['index'] = all_objects['index'].apply(lib.try_parse_int)"
   ]
  },
  {
   "cell_type": "markdown",
   "id": "b5f3ada4",
   "metadata": {},
   "source": [
    "### Merge all catalog objects"
   ]
  },
  {
   "cell_type": "code",
   "execution_count": null,
   "id": "71fe26ce",
   "metadata": {},
   "outputs": [],
   "source": [
    "# Find all objects from extracted catalogs\n",
    "catalogs_folders = [f for f in os.listdir(folder_path) if os.path.isdir(os.path.join(folder_path, f))]\n",
    "eta.begin(len(catalogs_folders), 'Merging all catalogs')\n",
    "for folder in catalogs_folders:\n",
    "    path = os.path.join(folder_path, folder, 'objects.csv')\n",
    "    if os.path.exists(path):\n",
    "        # Load the catalog objects\n",
    "        objects = pd.read_csv(path)\n",
    "        objects['index'] = objects['index'].astype(pd.StringDtype()).apply(lib.try_parse_int)\n",
    "        \n",
    "        # Add catalog information\n",
    "        objects['catalog'] = folder\n",
    "\n",
    "        # Concat with all objects\n",
    "        all_objects = pd.concat([objects, all_objects])\n",
    "\n",
    "        # Deduplicate based on catalog name and description (to assure unicity)\n",
    "        all_objects.drop_duplicates(subset=['catalog', 'index'], inplace=True, keep='first')\n",
    "        \n",
    "    eta.iter()\n",
    "eta.end()"
   ]
  },
  {
   "cell_type": "markdown",
   "id": "f3b32603",
   "metadata": {},
   "source": [
    "### Format and sort all objects"
   ]
  },
  {
   "cell_type": "code",
   "execution_count": null,
   "id": "c2afecc9",
   "metadata": {},
   "outputs": [],
   "source": [
    "# Columns in right order\n",
    "all_objects = all_objects[columns]\n",
    "\n",
    "# Sort table\n",
    "all_objects['index_int'] = pd.to_numeric(all_objects['index'], errors='coerce')\n",
    "all_objects.sort_values(by=['catalog', 'index_int'], inplace=True)\n",
    "all_objects.drop(columns=['index_int'], inplace=True)"
   ]
  },
  {
   "cell_type": "markdown",
   "id": "0b8d634e",
   "metadata": {},
   "source": [
    "### Save all objects"
   ]
  },
  {
   "cell_type": "code",
   "execution_count": null,
   "id": "1fde6c5d",
   "metadata": {},
   "outputs": [],
   "source": [
    "all_objects.to_csv(output_path, index=False)\n",
    "print('Total number of objects:', len(all_objects))"
   ]
  }
 ],
 "metadata": {
  "kernelspec": {
   "display_name": "Python 3",
   "language": "python",
   "name": "python3"
  },
  "language_info": {
   "codemirror_mode": {
    "name": "ipython",
    "version": 3
   },
   "file_extension": ".py",
   "mimetype": "text/x-python",
   "name": "python",
   "nbconvert_exporter": "python",
   "pygments_lexer": "ipython3",
   "version": "3.10.16"
  }
 },
 "nbformat": 4,
 "nbformat_minor": 5
}
